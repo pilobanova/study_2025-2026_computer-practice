{
 "cells": [
  {
   "cell_type": "code",
   "execution_count": 4,
   "id": "f30890ad-cb3b-429b-b015-126b6ca6ee3e",
   "metadata": {},
   "outputs": [
    {
     "data": {
      "text/plain": [
       "4×3 Matrix{Int64}:\n",
       "  7  9   9\n",
       "  5  6  17\n",
       " 13  2   9\n",
       "  3  2   6"
      ]
     },
     "execution_count": 4,
     "metadata": {},
     "output_type": "execute_result"
    }
   ],
   "source": [
    "#Поэлементные операции над многомерными массивами\n",
    "# Массив 4x3 со случайными целыми числами (от 1 до 20):\n",
    "a = rand(1:20, (4,3))"
   ]
  },
  {
   "cell_type": "code",
   "execution_count": 5,
   "id": "10657a50-dff8-4a2c-ba97-f1b4cddf0170",
   "metadata": {},
   "outputs": [
    {
     "data": {
      "text/plain": [
       "88"
      ]
     },
     "execution_count": 5,
     "metadata": {},
     "output_type": "execute_result"
    }
   ],
   "source": [
    "# Поэлементная сумма:\n",
    "sum(a)"
   ]
  },
  {
   "cell_type": "code",
   "execution_count": 6,
   "id": "7ff8200e-929d-48db-872e-7cb457e6f9cf",
   "metadata": {},
   "outputs": [
    {
     "data": {
      "text/plain": [
       "1×3 Matrix{Int64}:\n",
       " 28  19  41"
      ]
     },
     "execution_count": 6,
     "metadata": {},
     "output_type": "execute_result"
    }
   ],
   "source": [
    "# Поэлементная сумма по столбцам:\n",
    "sum(a,dims=1)"
   ]
  },
  {
   "cell_type": "code",
   "execution_count": 7,
   "id": "b7272a0e-fb87-4f02-9684-1965209006fb",
   "metadata": {},
   "outputs": [
    {
     "data": {
      "text/plain": [
       "4×1 Matrix{Int64}:\n",
       " 25\n",
       " 28\n",
       " 24\n",
       " 11"
      ]
     },
     "execution_count": 7,
     "metadata": {},
     "output_type": "execute_result"
    }
   ],
   "source": [
    "# Поэлементная сумма по строкам:\n",
    "sum(a,dims=2)"
   ]
  },
  {
   "cell_type": "code",
   "execution_count": 8,
   "id": "fb08abf8-ddff-4556-a04a-c1f549c2cdb9",
   "metadata": {},
   "outputs": [
    {
     "data": {
      "text/plain": [
       "2435968080"
      ]
     },
     "execution_count": 8,
     "metadata": {},
     "output_type": "execute_result"
    }
   ],
   "source": [
    "# Поэлементное произведение:\n",
    "prod(a)"
   ]
  },
  {
   "cell_type": "code",
   "execution_count": 9,
   "id": "70516cbc-67a5-4ac2-8e2f-56303d3cfb42",
   "metadata": {},
   "outputs": [
    {
     "data": {
      "text/plain": [
       "1×3 Matrix{Int64}:\n",
       " 1365  216  8262"
      ]
     },
     "execution_count": 9,
     "metadata": {},
     "output_type": "execute_result"
    }
   ],
   "source": [
    "# Поэлементное произведение по столбцам:\n",
    "prod(a,dims=1)"
   ]
  },
  {
   "cell_type": "code",
   "execution_count": 10,
   "id": "1a530527-9807-4a36-85af-3a96f412ec54",
   "metadata": {},
   "outputs": [
    {
     "data": {
      "text/plain": [
       "4×1 Matrix{Int64}:\n",
       " 567\n",
       " 510\n",
       " 234\n",
       "  36"
      ]
     },
     "execution_count": 10,
     "metadata": {},
     "output_type": "execute_result"
    }
   ],
   "source": [
    "# Поэлементное произведение по строкам:\n",
    "prod(a,dims=2)"
   ]
  },
  {
   "cell_type": "code",
   "execution_count": 11,
   "id": "083c1e48-a0e4-4aa2-9d89-937a9b7ef11d",
   "metadata": {},
   "outputs": [
    {
     "name": "stderr",
     "output_type": "stream",
     "text": [
      "\u001b[32m\u001b[1m    Updating\u001b[22m\u001b[39m registry at `C:\\Users\\Полина\\.julia\\registries\\General.toml`\n",
      "\u001b[32m\u001b[1m   Resolving\u001b[22m\u001b[39m package versions...\n",
      "\u001b[32m\u001b[1m    Updating\u001b[22m\u001b[39m `C:\\Users\\Полина\\.julia\\environments\\v1.11\\Project.toml`\n",
      "  \u001b[90m[10745b16] \u001b[39m\u001b[92m+ Statistics v1.11.1\u001b[39m\n",
      "\u001b[32m\u001b[1m  No Changes\u001b[22m\u001b[39m to `C:\\Users\\Полина\\.julia\\environments\\v1.11\\Manifest.toml`\n"
     ]
    }
   ],
   "source": [
    "# Подключение пакета Statistics:\n",
    "import Pkg\n",
    "Pkg.add(\"Statistics\")\n",
    "using Statistics"
   ]
  },
  {
   "cell_type": "code",
   "execution_count": 12,
   "id": "d7ef6662-1854-4e44-b536-d0cc128f460d",
   "metadata": {},
   "outputs": [
    {
     "data": {
      "text/plain": [
       "7.333333333333333"
      ]
     },
     "execution_count": 12,
     "metadata": {},
     "output_type": "execute_result"
    }
   ],
   "source": [
    "# Вычисление среднего значения массива:\n",
    "mean(a)"
   ]
  },
  {
   "cell_type": "code",
   "execution_count": 13,
   "id": "ee0efc2a-e65e-440c-a7ff-faf4388577ea",
   "metadata": {},
   "outputs": [
    {
     "data": {
      "text/plain": [
       "1×3 Matrix{Float64}:\n",
       " 7.0  4.75  10.25"
      ]
     },
     "execution_count": 13,
     "metadata": {},
     "output_type": "execute_result"
    }
   ],
   "source": [
    "# Среднее по столбцам:\n",
    "mean(a,dims=1)"
   ]
  },
  {
   "cell_type": "code",
   "execution_count": 14,
   "id": "69b95015-26c0-44d2-a6ff-24ccc6de21f6",
   "metadata": {},
   "outputs": [
    {
     "data": {
      "text/plain": [
       "4×1 Matrix{Float64}:\n",
       " 8.333333333333334\n",
       " 9.333333333333334\n",
       " 8.0\n",
       " 3.6666666666666665"
      ]
     },
     "execution_count": 14,
     "metadata": {},
     "output_type": "execute_result"
    }
   ],
   "source": [
    "# Среднее по строкам:\n",
    "mean(a,dims=2)"
   ]
  },
  {
   "cell_type": "code",
   "execution_count": 15,
   "id": "9e9339c4-820b-412c-8eb7-f9a60ffb577d",
   "metadata": {},
   "outputs": [
    {
     "name": "stderr",
     "output_type": "stream",
     "text": [
      "\u001b[32m\u001b[1m   Resolving\u001b[22m\u001b[39m package versions...\n",
      "\u001b[32m\u001b[1m    Updating\u001b[22m\u001b[39m `C:\\Users\\Полина\\.julia\\environments\\v1.11\\Project.toml`\n",
      "  \u001b[90m[37e2e46d] \u001b[39m\u001b[92m+ LinearAlgebra v1.11.0\u001b[39m\n",
      "\u001b[32m\u001b[1m  No Changes\u001b[22m\u001b[39m to `C:\\Users\\Полина\\.julia\\environments\\v1.11\\Manifest.toml`\n"
     ]
    }
   ],
   "source": [
    "#Транспонирование, след, ранг, определитель и инверсия матрицы\n",
    "# Подключение пакета LinearAlgebra:\n",
    "import Pkg\n",
    "Pkg.add(\"LinearAlgebra\")\n",
    "using LinearAlgebra"
   ]
  },
  {
   "cell_type": "code",
   "execution_count": 16,
   "id": "e9c7ef6f-ba2c-4446-8ec7-e293cf10abff",
   "metadata": {},
   "outputs": [
    {
     "data": {
      "text/plain": [
       "4×4 Matrix{Int64}:\n",
       "  2  14   2  20\n",
       " 12   3  15   9\n",
       "  5  11  12  12\n",
       " 19   5  11  15"
      ]
     },
     "execution_count": 16,
     "metadata": {},
     "output_type": "execute_result"
    }
   ],
   "source": [
    "# Массив 4x4 со случайными целыми числами (от 1 до 20):\n",
    "b = rand(1:20,(4,4))"
   ]
  },
  {
   "cell_type": "code",
   "execution_count": 17,
   "id": "80862178-3a57-4793-8d10-e94486c5306a",
   "metadata": {},
   "outputs": [
    {
     "data": {
      "text/plain": [
       "4×4 transpose(::Matrix{Int64}) with eltype Int64:\n",
       "  2  12   5  19\n",
       " 14   3  11   5\n",
       "  2  15  12  11\n",
       " 20   9  12  15"
      ]
     },
     "execution_count": 17,
     "metadata": {},
     "output_type": "execute_result"
    }
   ],
   "source": [
    "# Транспонирование:\n",
    "transpose(b)"
   ]
  },
  {
   "cell_type": "code",
   "execution_count": 18,
   "id": "8f073189-acea-4749-8aad-5a60516a7f65",
   "metadata": {},
   "outputs": [
    {
     "data": {
      "text/plain": [
       "4×4 adjoint(::Matrix{Int64}) with eltype Int64:\n",
       "  2  12   5  19\n",
       " 14   3  11   5\n",
       "  2  15  12  11\n",
       " 20   9  12  15"
      ]
     },
     "execution_count": 18,
     "metadata": {},
     "output_type": "execute_result"
    }
   ],
   "source": [
    "b'"
   ]
  },
  {
   "cell_type": "code",
   "execution_count": 19,
   "id": "bdf9bfd8-b373-4885-b869-05ff4293f4a9",
   "metadata": {},
   "outputs": [
    {
     "data": {
      "text/plain": [
       "32"
      ]
     },
     "execution_count": 19,
     "metadata": {},
     "output_type": "execute_result"
    }
   ],
   "source": [
    "# След матрицы (сумма диагональных элементов):\n",
    "tr(b)"
   ]
  },
  {
   "cell_type": "code",
   "execution_count": 20,
   "id": "5ab7b9b2-4976-4810-b1a4-dab0f0db29d3",
   "metadata": {},
   "outputs": [
    {
     "data": {
      "text/plain": [
       "4-element Vector{Int64}:\n",
       "  2\n",
       "  3\n",
       " 12\n",
       " 15"
      ]
     },
     "execution_count": 20,
     "metadata": {},
     "output_type": "execute_result"
    }
   ],
   "source": [
    "# Извлечение диагональных элементов как массив:\n",
    "diag(b)"
   ]
  },
  {
   "cell_type": "code",
   "execution_count": 21,
   "id": "d9be5ecd-8319-40e2-a722-fc195ca83328",
   "metadata": {},
   "outputs": [
    {
     "data": {
      "text/plain": [
       "4"
      ]
     },
     "execution_count": 21,
     "metadata": {},
     "output_type": "execute_result"
    }
   ],
   "source": [
    "# Ранг матрицы:\n",
    "rank(b)"
   ]
  },
  {
   "cell_type": "code",
   "execution_count": 22,
   "id": "2199696d-369c-4a02-8fa3-372944cd797d",
   "metadata": {},
   "outputs": [
    {
     "data": {
      "text/plain": [
       "4×4 Matrix{Float64}:\n",
       " -0.0869308   -0.16578    0.0910704    0.142519\n",
       " -0.129509    -0.3014     0.278533     0.130692\n",
       "  0.00620934   0.130889  -0.00650503  -0.0816085\n",
       "  0.148729     0.214469  -0.20343     -0.0975754"
      ]
     },
     "execution_count": 22,
     "metadata": {},
     "output_type": "execute_result"
    }
   ],
   "source": [
    "# Инверсия матрицы (определение обратной матрицы):\n",
    "inv(b)"
   ]
  },
  {
   "cell_type": "code",
   "execution_count": 23,
   "id": "a1801a64-4ebf-410e-b5e6-25f13c08041a",
   "metadata": {},
   "outputs": [
    {
     "data": {
      "text/plain": [
       "10145.999999999998"
      ]
     },
     "execution_count": 23,
     "metadata": {},
     "output_type": "execute_result"
    }
   ],
   "source": [
    "# Определитель матрицы:\n",
    "det(b)"
   ]
  },
  {
   "cell_type": "code",
   "execution_count": 24,
   "id": "41ee61c1-93a5-4ff2-82fc-5e9ad1114bef",
   "metadata": {},
   "outputs": [
    {
     "data": {
      "text/plain": [
       "3×4 Matrix{Float64}:\n",
       "  0.0180046  -0.0551283   0.0896517   -0.00528759\n",
       "  0.158343   -0.0429604  -0.0642611   -0.0194021\n",
       " -0.061237    0.0857328  -0.00551091   0.0238789"
      ]
     },
     "execution_count": 24,
     "metadata": {},
     "output_type": "execute_result"
    }
   ],
   "source": [
    "# Псевдобратная функция для прямоугольных матриц:\n",
    "pinv(a)"
   ]
  },
  {
   "cell_type": "code",
   "execution_count": 25,
   "id": "1b2045d9-ca71-4cd9-afc4-509e679f1ed1",
   "metadata": {},
   "outputs": [
    {
     "data": {
      "text/plain": [
       "3-element Vector{Int64}:\n",
       "  2\n",
       "  4\n",
       " -5"
      ]
     },
     "execution_count": 25,
     "metadata": {},
     "output_type": "execute_result"
    }
   ],
   "source": [
    "#Вычисление нормы векторов и матриц, повороты, вращения\n",
    "# Создание вектора X:\n",
    "X = [2, 4, -5]"
   ]
  },
  {
   "cell_type": "code",
   "execution_count": 26,
   "id": "5b35a2e2-286d-4936-b46c-fed9e212aed0",
   "metadata": {},
   "outputs": [
    {
     "data": {
      "text/plain": [
       "6.708203932499369"
      ]
     },
     "execution_count": 26,
     "metadata": {},
     "output_type": "execute_result"
    }
   ],
   "source": [
    "# Вычисление евклидовой нормы:\n",
    "norm(X)"
   ]
  },
  {
   "cell_type": "code",
   "execution_count": 27,
   "id": "a5ac4aa3-f71b-4616-8dde-2884ab08c920",
   "metadata": {},
   "outputs": [
    {
     "data": {
      "text/plain": [
       "11.0"
      ]
     },
     "execution_count": 27,
     "metadata": {},
     "output_type": "execute_result"
    }
   ],
   "source": [
    "# Вычисление p-нормы:\n",
    "p = 1\n",
    "norm(X,p)"
   ]
  },
  {
   "cell_type": "code",
   "execution_count": 28,
   "id": "7e448edd-b6c6-478e-97ba-9f31532c8a63",
   "metadata": {},
   "outputs": [
    {
     "data": {
      "text/plain": [
       "9.486832980505138"
      ]
     },
     "execution_count": 28,
     "metadata": {},
     "output_type": "execute_result"
    }
   ],
   "source": [
    "# Расстояние между двумя векторами X и Y:\n",
    "X = [2, 4, -5];\n",
    "Y = [1,-1,3];\n",
    "norm(X-Y)"
   ]
  },
  {
   "cell_type": "code",
   "execution_count": 29,
   "id": "5c9b32b3-4a2e-4f1d-8763-b77822bf0164",
   "metadata": {},
   "outputs": [
    {
     "data": {
      "text/plain": [
       "9.486832980505138"
      ]
     },
     "execution_count": 29,
     "metadata": {},
     "output_type": "execute_result"
    }
   ],
   "source": [
    "# Проверка по базовому определению:\n",
    "sqrt(sum((X-Y).^2))"
   ]
  },
  {
   "cell_type": "code",
   "execution_count": 30,
   "id": "7c3d56f2-61c9-4daf-a153-0bf784963da4",
   "metadata": {},
   "outputs": [
    {
     "data": {
      "text/plain": [
       "2.4404307889469252"
      ]
     },
     "execution_count": 30,
     "metadata": {},
     "output_type": "execute_result"
    }
   ],
   "source": [
    "# Угол между двумя векторами:\n",
    "acos((transpose(X)*Y)/(norm(X)*norm(Y)))"
   ]
  },
  {
   "cell_type": "code",
   "execution_count": 31,
   "id": "4044818f-ef56-4069-91dd-92425501dbc8",
   "metadata": {},
   "outputs": [
    {
     "data": {
      "text/plain": [
       "2.4404307889469252"
      ]
     },
     "execution_count": 31,
     "metadata": {},
     "output_type": "execute_result"
    }
   ],
   "source": [
    "# Угол между двумя векторами:\n",
    "acos((X'*Y)/(norm(X)*norm(Y)))"
   ]
  },
  {
   "cell_type": "code",
   "execution_count": 32,
   "id": "fcdcfb47-607b-4c47-a38e-c4b3adb38f85",
   "metadata": {},
   "outputs": [
    {
     "data": {
      "text/plain": [
       "3×3 Matrix{Int64}:\n",
       "  5  -4  2\n",
       " -1   2  3\n",
       " -2   1  0"
      ]
     },
     "execution_count": 32,
     "metadata": {},
     "output_type": "execute_result"
    }
   ],
   "source": [
    "# Создание матрицы:\n",
    "d = [5 -4 2 ; -1 2 3; -2 1 0]"
   ]
  },
  {
   "cell_type": "code",
   "execution_count": 33,
   "id": "bdaa5c20-312e-4cf8-b72a-0ceeefdb2457",
   "metadata": {},
   "outputs": [
    {
     "data": {
      "text/plain": [
       "7.147682841795258"
      ]
     },
     "execution_count": 33,
     "metadata": {},
     "output_type": "execute_result"
    }
   ],
   "source": [
    "# Вычисление Евклидовой нормы:\n",
    "opnorm(d)"
   ]
  },
  {
   "cell_type": "code",
   "execution_count": 34,
   "id": "f03563b3-4c5e-44dd-bbb6-99f146f4a69f",
   "metadata": {},
   "outputs": [
    {
     "data": {
      "text/plain": [
       "8.0"
      ]
     },
     "execution_count": 34,
     "metadata": {},
     "output_type": "execute_result"
    }
   ],
   "source": [
    "# Вычисление p-нормы:\n",
    "p=1\n",
    "opnorm(d,p)"
   ]
  },
  {
   "cell_type": "code",
   "execution_count": 35,
   "id": "012ecb47-7293-438a-b2ed-5056a04db607",
   "metadata": {},
   "outputs": [
    {
     "data": {
      "text/plain": [
       "3×3 Matrix{Int64}:\n",
       " 0   1  -2\n",
       " 3   2  -1\n",
       " 2  -4   5"
      ]
     },
     "execution_count": 35,
     "metadata": {},
     "output_type": "execute_result"
    }
   ],
   "source": [
    "# Поворот на 180 градусов:\n",
    "rot180(d)"
   ]
  },
  {
   "cell_type": "code",
   "execution_count": 36,
   "id": "b1681418-3219-4f3f-96d5-53abad863406",
   "metadata": {},
   "outputs": [
    {
     "data": {
      "text/plain": [
       "3×3 Matrix{Int64}:\n",
       " -2   1  0\n",
       " -1   2  3\n",
       "  5  -4  2"
      ]
     },
     "execution_count": 36,
     "metadata": {},
     "output_type": "execute_result"
    }
   ],
   "source": [
    "# Переворачивание строк:\n",
    "reverse(d,dims=1)"
   ]
  },
  {
   "cell_type": "code",
   "execution_count": 37,
   "id": "254812f8-b0a0-46d5-9e11-fa91a4732f91",
   "metadata": {},
   "outputs": [
    {
     "data": {
      "text/plain": [
       "3×3 Matrix{Int64}:\n",
       " 2  -4   5\n",
       " 3   2  -1\n",
       " 0   1  -2"
      ]
     },
     "execution_count": 37,
     "metadata": {},
     "output_type": "execute_result"
    }
   ],
   "source": [
    "# Переворачивание столбцов\n",
    "reverse(d,dims=2)"
   ]
  },
  {
   "cell_type": "code",
   "execution_count": 38,
   "id": "79a21da5-b30e-4a1d-b5d4-f057c334ee8b",
   "metadata": {},
   "outputs": [
    {
     "data": {
      "text/plain": [
       "2×3 Matrix{Int64}:\n",
       " 3  2  9\n",
       " 4  9  2"
      ]
     },
     "execution_count": 38,
     "metadata": {},
     "output_type": "execute_result"
    }
   ],
   "source": [
    "#Матричное умножение, единичная матрица, скалярное произведение\n",
    "# Матрица 2x3 со случайными целыми значениями от 1 до 10:\n",
    "A = rand(1:10,(2,3))"
   ]
  },
  {
   "cell_type": "code",
   "execution_count": 39,
   "id": "941ea100-5e5d-4a1c-86f8-e567e0db7fdd",
   "metadata": {},
   "outputs": [
    {
     "data": {
      "text/plain": [
       "3×4 Matrix{Int64}:\n",
       " 9  1  2  1\n",
       " 5  1  3  7\n",
       " 6  1  9  3"
      ]
     },
     "execution_count": 39,
     "metadata": {},
     "output_type": "execute_result"
    }
   ],
   "source": [
    "# Матрица 3x4 со случайными целыми значениями от 1 до 10:\n",
    "B = rand(1:10,(3,4))"
   ]
  },
  {
   "cell_type": "code",
   "execution_count": 40,
   "id": "a0e0d3a2-f337-45e4-95d9-38f6a31d0f66",
   "metadata": {},
   "outputs": [
    {
     "data": {
      "text/plain": [
       "2×4 Matrix{Int64}:\n",
       " 91  14  93  44\n",
       " 93  15  53  73"
      ]
     },
     "execution_count": 40,
     "metadata": {},
     "output_type": "execute_result"
    }
   ],
   "source": [
    "# Произведение матриц A и B:\n",
    "A*B"
   ]
  },
  {
   "cell_type": "code",
   "execution_count": 41,
   "id": "e74be8d1-ab91-49ca-abe6-808ce2638ab9",
   "metadata": {},
   "outputs": [
    {
     "data": {
      "text/plain": [
       "3×3 Matrix{Int64}:\n",
       " 1  0  0\n",
       " 0  1  0\n",
       " 0  0  1"
      ]
     },
     "execution_count": 41,
     "metadata": {},
     "output_type": "execute_result"
    }
   ],
   "source": [
    "# Единичная матрица 3x3:\n",
    "Matrix{Int}(I, 3, 3)"
   ]
  },
  {
   "cell_type": "code",
   "execution_count": 42,
   "id": "e5bf838f-31a3-465b-b1e1-fb08c7950547",
   "metadata": {},
   "outputs": [
    {
     "data": {
      "text/plain": [
       "-17"
      ]
     },
     "execution_count": 42,
     "metadata": {},
     "output_type": "execute_result"
    }
   ],
   "source": [
    "# Скалярное произведение векторов X и Y:\n",
    "X = [2, 4, -5]\n",
    "Y = [1,-1,3]\n",
    "dot(X,Y)"
   ]
  },
  {
   "cell_type": "code",
   "execution_count": 43,
   "id": "3583dea1-8344-43ff-b067-ad5ab2abe636",
   "metadata": {},
   "outputs": [
    {
     "data": {
      "text/plain": [
       "-17"
      ]
     },
     "execution_count": 43,
     "metadata": {},
     "output_type": "execute_result"
    }
   ],
   "source": [
    "# тоже скалярное произведение:\n",
    "X'Y"
   ]
  },
  {
   "cell_type": "code",
   "execution_count": 75,
   "id": "80c96d67-9fc7-4fc4-bad5-e4052d523c5d",
   "metadata": {},
   "outputs": [
    {
     "data": {
      "text/plain": [
       "3×3 Matrix{Float64}:\n",
       " 0.551531  0.462932  0.529392\n",
       " 0.942454  0.777511  0.239333\n",
       " 0.702618  0.877552  0.15966"
      ]
     },
     "execution_count": 75,
     "metadata": {},
     "output_type": "execute_result"
    }
   ],
   "source": [
    "#Факторизация. Специальные матричные структуры\n",
    "# Задаём квадратную матрицу 3x3 со случайными значениями:\n",
    "A = rand(3, 3)"
   ]
  },
  {
   "cell_type": "code",
   "execution_count": 76,
   "id": "b5bb0d32-98b9-46d2-9171-198c663ea647",
   "metadata": {},
   "outputs": [
    {
     "data": {
      "text/plain": [
       "3-element Vector{Float64}:\n",
       " 1.0\n",
       " 1.0\n",
       " 1.0"
      ]
     },
     "execution_count": 76,
     "metadata": {},
     "output_type": "execute_result"
    }
   ],
   "source": [
    "# Задаём единичный вектор:\n",
    "x = fill(1.0, 3)"
   ]
  },
  {
   "cell_type": "code",
   "execution_count": 77,
   "id": "3c63f153-f64d-496f-ac79-173a328bea19",
   "metadata": {},
   "outputs": [
    {
     "data": {
      "text/plain": [
       "3-element Vector{Float64}:\n",
       " 1.543855596934271\n",
       " 1.9592989439076152\n",
       " 1.739830453013854"
      ]
     },
     "execution_count": 77,
     "metadata": {},
     "output_type": "execute_result"
    }
   ],
   "source": [
    "# Задаём вектор b:\n",
    "b = A*x"
   ]
  },
  {
   "cell_type": "code",
   "execution_count": 78,
   "id": "fe6323fa-b969-428b-8325-2851a3493f18",
   "metadata": {},
   "outputs": [
    {
     "data": {
      "text/plain": [
       "3-element Vector{Float64}:\n",
       " 1.0000000000000009\n",
       " 0.9999999999999992\n",
       " 0.9999999999999993"
      ]
     },
     "execution_count": 78,
     "metadata": {},
     "output_type": "execute_result"
    }
   ],
   "source": [
    "# Решение исходного уравнения получаем с помощью функции \\\n",
    "# (убеждаемся, что x - единичный вектор):\n",
    "A\\b"
   ]
  },
  {
   "cell_type": "code",
   "execution_count": 79,
   "id": "bfc1ca09-f821-4fbe-9eec-df3dfa8f3b49",
   "metadata": {},
   "outputs": [
    {
     "data": {
      "text/plain": [
       "LU{Float64, Matrix{Float64}, Vector{Int64}}\n",
       "L factor:\n",
       "3×3 Matrix{Float64}:\n",
       " 1.0       0.0        0.0\n",
       " 0.74552   1.0        0.0\n",
       " 0.585207  0.0266086  1.0\n",
       "U factor:\n",
       "3×3 Matrix{Float64}:\n",
       " 0.942454  0.777511   0.239333\n",
       " 0.0       0.297903  -0.018768\n",
       " 0.0       0.0        0.389832"
      ]
     },
     "execution_count": 79,
     "metadata": {},
     "output_type": "execute_result"
    }
   ],
   "source": [
    "# LU-факторизация:\n",
    "Alu = lu(A)"
   ]
  },
  {
   "cell_type": "code",
   "execution_count": 80,
   "id": "05741c1e-c76f-449a-89e4-69974502bc57",
   "metadata": {},
   "outputs": [
    {
     "data": {
      "text/plain": [
       "3×3 Matrix{Float64}:\n",
       " 0.0  1.0  0.0\n",
       " 0.0  0.0  1.0\n",
       " 1.0  0.0  0.0"
      ]
     },
     "execution_count": 80,
     "metadata": {},
     "output_type": "execute_result"
    }
   ],
   "source": [
    "# Матрица перестановок:\n",
    "Alu.P"
   ]
  },
  {
   "cell_type": "code",
   "execution_count": 81,
   "id": "93a6fccb-4ebb-4d49-980c-57f725926dc5",
   "metadata": {},
   "outputs": [
    {
     "data": {
      "text/plain": [
       "3-element Vector{Int64}:\n",
       " 2\n",
       " 3\n",
       " 1"
      ]
     },
     "execution_count": 81,
     "metadata": {},
     "output_type": "execute_result"
    }
   ],
   "source": [
    "# Вектор перестановок:\n",
    "Alu.p"
   ]
  },
  {
   "cell_type": "code",
   "execution_count": 82,
   "id": "702d172c-bade-4cf9-abfd-d5ae2d94be55",
   "metadata": {},
   "outputs": [
    {
     "data": {
      "text/plain": [
       "3×3 Matrix{Float64}:\n",
       " 1.0       0.0        0.0\n",
       " 0.74552   1.0        0.0\n",
       " 0.585207  0.0266086  1.0"
      ]
     },
     "execution_count": 82,
     "metadata": {},
     "output_type": "execute_result"
    }
   ],
   "source": [
    "# Матрица L:\n",
    "Alu.L"
   ]
  },
  {
   "cell_type": "code",
   "execution_count": 83,
   "id": "a3cfcae8-ac3a-4cea-ac92-5e70a9ddd761",
   "metadata": {},
   "outputs": [
    {
     "data": {
      "text/plain": [
       "3×3 Matrix{Float64}:\n",
       " 0.942454  0.777511   0.239333\n",
       " 0.0       0.297903  -0.018768\n",
       " 0.0       0.0        0.389832"
      ]
     },
     "execution_count": 83,
     "metadata": {},
     "output_type": "execute_result"
    }
   ],
   "source": [
    "# Матрица U:\n",
    "Alu.U"
   ]
  },
  {
   "cell_type": "code",
   "execution_count": 84,
   "id": "5b118905-22fe-43b6-89de-c6f3bcc63cab",
   "metadata": {},
   "outputs": [
    {
     "data": {
      "text/plain": [
       "3-element Vector{Float64}:\n",
       " 1.0000000000000009\n",
       " 0.9999999999999992\n",
       " 0.9999999999999993"
      ]
     },
     "execution_count": 84,
     "metadata": {},
     "output_type": "execute_result"
    }
   ],
   "source": [
    "# Решение СЛАУ через матрицу A:\n",
    "A\\b"
   ]
  },
  {
   "cell_type": "code",
   "execution_count": 85,
   "id": "877f0594-9227-413d-9860-6bc1006b43bb",
   "metadata": {},
   "outputs": [
    {
     "data": {
      "text/plain": [
       "3-element Vector{Float64}:\n",
       " 1.0000000000000009\n",
       " 0.9999999999999992\n",
       " 0.9999999999999993"
      ]
     },
     "execution_count": 85,
     "metadata": {},
     "output_type": "execute_result"
    }
   ],
   "source": [
    "# Решение СЛАУ через объект факторизации:\n",
    "Alu\\b"
   ]
  },
  {
   "cell_type": "code",
   "execution_count": 86,
   "id": "b1e52bc3-42c6-4040-837a-b8b151443ecd",
   "metadata": {},
   "outputs": [
    {
     "data": {
      "text/plain": [
       "0.10944902518719724"
      ]
     },
     "execution_count": 86,
     "metadata": {},
     "output_type": "execute_result"
    }
   ],
   "source": [
    "# Детерминант матрицы A:\n",
    "det(A)"
   ]
  },
  {
   "cell_type": "code",
   "execution_count": 87,
   "id": "2d050716-f894-42d6-83ac-0aeda84296ce",
   "metadata": {},
   "outputs": [
    {
     "data": {
      "text/plain": [
       "0.10944902518719724"
      ]
     },
     "execution_count": 87,
     "metadata": {},
     "output_type": "execute_result"
    }
   ],
   "source": [
    "# Детерминант матрицы A через объект факторизации:\n",
    "det(Alu)"
   ]
  },
  {
   "cell_type": "code",
   "execution_count": 88,
   "id": "b71aa2f7-9b31-4f07-abca-c54177b53afc",
   "metadata": {},
   "outputs": [
    {
     "data": {
      "text/plain": [
       "LinearAlgebra.QRCompactWY{Float64, Matrix{Float64}, Matrix{Float64}}\n",
       "Q factor: 3×3 LinearAlgebra.QRCompactWYQ{Float64, Matrix{Float64}, Matrix{Float64}}\n",
       "R factor:\n",
       "3×3 Matrix{Float64}:\n",
       " -1.29849  -1.2358    -0.484961\n",
       "  0.0       0.248451  -0.112888\n",
       "  0.0       0.0       -0.33926"
      ]
     },
     "execution_count": 88,
     "metadata": {},
     "output_type": "execute_result"
    }
   ],
   "source": [
    "# QR-факторизация:\n",
    "Aqr = qr(A)"
   ]
  },
  {
   "cell_type": "code",
   "execution_count": 89,
   "id": "a5cfcd05-9338-4115-93d8-482841f6d6b6",
   "metadata": {},
   "outputs": [
    {
     "data": {
      "text/plain": [
       "3×3 LinearAlgebra.QRCompactWYQ{Float64, Matrix{Float64}, Matrix{Float64}}"
      ]
     },
     "execution_count": 89,
     "metadata": {},
     "output_type": "execute_result"
    }
   ],
   "source": [
    "# Матрица Q:\n",
    "Aqr.Q"
   ]
  },
  {
   "cell_type": "code",
   "execution_count": 90,
   "id": "0df2760a-0ef8-4aa6-b155-9e6d177c43d2",
   "metadata": {},
   "outputs": [
    {
     "data": {
      "text/plain": [
       "3×3 Matrix{Float64}:\n",
       " -1.29849  -1.2358    -0.484961\n",
       "  0.0       0.248451  -0.112888\n",
       "  0.0       0.0       -0.33926"
      ]
     },
     "execution_count": 90,
     "metadata": {},
     "output_type": "execute_result"
    }
   ],
   "source": [
    "# Матрица R:\n",
    "Aqr.R"
   ]
  },
  {
   "cell_type": "code",
   "execution_count": 91,
   "id": "a4bf90f9-eb58-4bd9-b9b4-00cd893198d7",
   "metadata": {},
   "outputs": [
    {
     "data": {
      "text/plain": [
       "3×3 Matrix{Float64}:\n",
       "  1.0          -8.32667e-17  -2.22045e-16\n",
       "  0.0           1.0          -1.11022e-16\n",
       " -1.11022e-16   0.0           1.0"
      ]
     },
     "execution_count": 91,
     "metadata": {},
     "output_type": "execute_result"
    }
   ],
   "source": [
    "# Проверка, что матрица Q - ортогональная:\n",
    "Aqr.Q'*Aqr.Q"
   ]
  },
  {
   "cell_type": "code",
   "execution_count": 92,
   "id": "ad3dfb96-2ced-4d33-b8c7-2b6ff8542f72",
   "metadata": {},
   "outputs": [
    {
     "data": {
      "text/plain": [
       "3×3 Matrix{Float64}:\n",
       " 1.10306  1.40539  1.23201\n",
       " 1.40539  1.55502  1.11689\n",
       " 1.23201  1.11689  0.31932"
      ]
     },
     "execution_count": 92,
     "metadata": {},
     "output_type": "execute_result"
    }
   ],
   "source": [
    "# Симметризация матрицы A:\n",
    "Asym = A + A'"
   ]
  },
  {
   "cell_type": "code",
   "execution_count": 93,
   "id": "0beadcf1-4492-4ca0-b176-b6874ba5b437",
   "metadata": {},
   "outputs": [
    {
     "data": {
      "text/plain": [
       "Eigen{Float64, Float64, Matrix{Float64}, Vector{Float64}}\n",
       "values:\n",
       "3-element Vector{Float64}:\n",
       " -0.5873869922610678\n",
       " -0.02297178677478906\n",
       "  3.5877632318320987\n",
       "vectors:\n",
       "3×3 Matrix{Float64}:\n",
       " -0.543112   0.589121  -0.598303\n",
       " -0.079495  -0.745429  -0.661828\n",
       "  0.835889   0.311884  -0.451683"
      ]
     },
     "execution_count": 93,
     "metadata": {},
     "output_type": "execute_result"
    }
   ],
   "source": [
    "# Спектральное разложение симметризованной матрицы:\n",
    "AsymEig = eigen(Asym)"
   ]
  },
  {
   "cell_type": "code",
   "execution_count": 94,
   "id": "6bb8b7ca-fb50-4f14-aecd-c03b6179f64a",
   "metadata": {},
   "outputs": [
    {
     "data": {
      "text/plain": [
       "3-element Vector{Float64}:\n",
       " -0.5873869922610678\n",
       " -0.02297178677478906\n",
       "  3.5877632318320987"
      ]
     },
     "execution_count": 94,
     "metadata": {},
     "output_type": "execute_result"
    }
   ],
   "source": [
    "# Собственные значения:\n",
    "AsymEig.values"
   ]
  },
  {
   "cell_type": "code",
   "execution_count": 95,
   "id": "d0094714-a982-4f20-a039-55da47851732",
   "metadata": {},
   "outputs": [
    {
     "data": {
      "text/plain": [
       "3×3 Matrix{Float64}:\n",
       " -0.543112   0.589121  -0.598303\n",
       " -0.079495  -0.745429  -0.661828\n",
       "  0.835889   0.311884  -0.451683"
      ]
     },
     "execution_count": 95,
     "metadata": {},
     "output_type": "execute_result"
    }
   ],
   "source": [
    "#Собственные векторы:\n",
    "AsymEig.vectors"
   ]
  },
  {
   "cell_type": "code",
   "execution_count": 96,
   "id": "de10de4b-5f19-4e3e-a3c6-2749c1879c1a",
   "metadata": {},
   "outputs": [
    {
     "data": {
      "text/plain": [
       "3×3 Matrix{Float64}:\n",
       "  1.0          -3.81917e-14  -5.77316e-15\n",
       "  3.90799e-14   1.0           1.28786e-14\n",
       " -1.59872e-14  -2.13163e-14   1.0"
      ]
     },
     "execution_count": 96,
     "metadata": {},
     "output_type": "execute_result"
    }
   ],
   "source": [
    "# Проверяем, что получится единичная матрица:\n",
    "inv(AsymEig)*Asym"
   ]
  },
  {
   "cell_type": "code",
   "execution_count": 97,
   "id": "af4cd468-90bd-4cd0-83af-abc850fba049",
   "metadata": {},
   "outputs": [
    {
     "data": {
      "text/plain": [
       "1000×1000 Matrix{Float64}:\n",
       " -2.21123     1.49552     -0.0800027  …   1.03644     0.287116    0.489334\n",
       " -1.61715    -1.19851     -0.520879      -0.340143    0.836955   -0.317155\n",
       "  1.0039     -2.03757      0.0386619      0.684426    0.485467   -2.76429\n",
       " -1.11308    -0.503773     0.662727       1.69777    -1.30953    -0.778417\n",
       "  0.422197    0.00782534   0.320535      -1.24173    -0.446      -0.0483074\n",
       "  0.324208   -0.469507     1.69774    …   0.832636    0.894876    0.696623\n",
       "  0.78462     0.877493    -1.77879       -2.06824     0.766819    1.01932\n",
       " -0.0452582   0.0214964   -1.6168        -0.894698   -0.284973    0.0288325\n",
       "  1.68032     0.952413     0.134991      -1.2106      1.68641     0.955969\n",
       " -0.68542     0.730857    -1.02571       -0.258665   -1.09236    -1.57978\n",
       "  1.88223    -0.028493    -1.30407    …  -0.70995     0.0860891  -1.39097\n",
       "  1.37706     0.0634672    0.502746      -0.383901   -0.424257   -0.748692\n",
       " -0.463588   -2.28929      1.28139        0.0356126  -1.54675    -0.249698\n",
       "  ⋮                                   ⋱                          \n",
       " -1.62627    -1.22571      0.837636       0.281486    0.501276   -1.1722\n",
       "  0.150812   -1.18037     -1.15633       -1.49511     1.26137     0.576786\n",
       " -0.415434   -0.0905179   -1.49928    …  -0.643082    0.88309    -0.898478\n",
       " -0.499404   -2.28215      1.65194        0.520678   -0.375621   -0.251754\n",
       " -1.31017     0.704631     0.777236       0.0546234  -0.443469    1.48167\n",
       "  1.52842    -0.859274     1.64819        0.986682    0.597711    0.564677\n",
       " -1.58124     0.315807     0.661945      -0.373102   -0.159406   -0.577015\n",
       " -0.725211   -0.335825     0.692725   …   1.68964    -0.235074    0.111309\n",
       "  0.533782    0.942887    -0.562174      -0.673415   -0.763457   -0.263159\n",
       "  0.5751      0.556507    -0.612258      -0.245984    0.495394    1.54353\n",
       "  1.6237      1.30644      3.2001         0.263866    1.00224    -0.114302\n",
       " -0.425017   -0.469181    -1.31023        2.72914    -0.228172   -0.576744"
      ]
     },
     "execution_count": 97,
     "metadata": {},
     "output_type": "execute_result"
    }
   ],
   "source": [
    "# Матрица 1000 х 1000:\n",
    "n = 1000\n",
    "A = randn(n,n)"
   ]
  },
  {
   "cell_type": "code",
   "execution_count": 98,
   "id": "cc881d51-71ac-4bc5-91fb-80384878a3fe",
   "metadata": {},
   "outputs": [
    {
     "data": {
      "text/plain": [
       "1000×1000 Matrix{Float64}:\n",
       " -4.42247    -0.121627    0.923896   …   1.61154     1.91082     0.0643163\n",
       " -0.121627   -2.39702    -2.55845        0.216364    2.14339    -0.786335\n",
       "  0.923896   -2.55845     0.0773238      0.0721682   3.68557    -4.07451\n",
       " -2.04304    -1.34501    -0.689001       1.92147    -1.32493    -1.4391\n",
       " -1.5396     -0.778088    0.554126      -1.42853     0.0744139  -0.540589\n",
       "  0.205376   -0.447025    3.65558    …   1.48534    -0.414697    1.81156\n",
       "  0.154791    1.34348    -1.29527       -2.13208    -0.66017     1.54498\n",
       "  0.852045    3.13639    -0.781097      -0.697632   -0.630185    0.0521465\n",
       "  3.3503     -0.237203   -0.70463       -1.93532     2.35026    -0.0314685\n",
       " -2.10326    -0.0592971  -1.50522        0.416827   -2.06459    -2.04976\n",
       "  0.629218    1.10381    -1.85902    …  -1.31295    -0.510115    0.382771\n",
       "  0.763118    1.66157    -0.288943       1.75658    -1.1151     -0.985488\n",
       " -1.74386    -0.738943    0.307054      -0.265365   -1.09749     0.0363151\n",
       "  ⋮                                  ⋱                          \n",
       " -3.00941    -1.37024     2.39034        1.82314    -0.380292   -1.79772\n",
       " -0.0551953  -0.899751   -1.71652       -1.8575      1.74603     0.463956\n",
       " -1.24547    -0.849534   -2.47423    …   0.108653    0.940387   -0.146214\n",
       " -0.772616   -2.07813     3.09038        0.346363   -0.960159   -1.50093\n",
       " -2.64617    -2.04766     1.08653        0.822263    0.0911967   1.65553\n",
       "  1.60719    -0.841101    0.157655       1.96522     2.13915     0.658992\n",
       " -0.55921    -1.16312     0.901499      -0.867904   -1.78357    -2.24253\n",
       " -0.496712   -0.0442799  -0.172507   …   2.9909      0.653923   -0.694089\n",
       "  1.99153    -0.402386   -0.436316       1.62488    -2.21985     0.275544\n",
       "  1.61154     0.216364    0.0721682     -0.491969    0.75926     4.27267\n",
       "  1.91082     2.14339     3.68557        0.75926     2.00448    -0.342474\n",
       "  0.0643163  -0.786335   -4.07451        4.27267    -0.342474   -1.15349"
      ]
     },
     "execution_count": 98,
     "metadata": {},
     "output_type": "execute_result"
    }
   ],
   "source": [
    "# Симметризация матрицы:\n",
    "Asym = A + A'"
   ]
  },
  {
   "cell_type": "code",
   "execution_count": 99,
   "id": "f778b436-b358-42fc-aa5c-a5b5df8f7976",
   "metadata": {},
   "outputs": [
    {
     "data": {
      "text/plain": [
       "true"
      ]
     },
     "execution_count": 99,
     "metadata": {},
     "output_type": "execute_result"
    }
   ],
   "source": [
    "# Проверка, является ли матрица симметричной:\n",
    "issymmetric(Asym)"
   ]
  },
  {
   "cell_type": "code",
   "execution_count": 100,
   "id": "e45a2b77-f655-4e65-aa1e-93c74f1f6e2e",
   "metadata": {},
   "outputs": [
    {
     "data": {
      "text/plain": [
       "-0.12162668870773974"
      ]
     },
     "execution_count": 100,
     "metadata": {},
     "output_type": "execute_result"
    }
   ],
   "source": [
    "# Добавление шума:\n",
    "Asym_noisy = copy(Asym)\n",
    "Asym_noisy[1,2] += 5eps()"
   ]
  },
  {
   "cell_type": "code",
   "execution_count": 101,
   "id": "68aba3fc-a33c-4779-aa7d-d5c1e0f0605e",
   "metadata": {},
   "outputs": [
    {
     "data": {
      "text/plain": [
       "false"
      ]
     },
     "execution_count": 101,
     "metadata": {},
     "output_type": "execute_result"
    }
   ],
   "source": [
    "# Проверка, является ли матрица симметричной:\n",
    "issymmetric(Asym_noisy)"
   ]
  },
  {
   "cell_type": "code",
   "execution_count": 102,
   "id": "3a40489b-bf97-4796-a6c3-b5f5e22a9aba",
   "metadata": {},
   "outputs": [
    {
     "data": {
      "text/plain": [
       "1000×1000 Symmetric{Float64, Matrix{Float64}}:\n",
       " -4.42247    -0.121627    0.923896   …   1.61154     1.91082     0.0643163\n",
       " -0.121627   -2.39702    -2.55845        0.216364    2.14339    -0.786335\n",
       "  0.923896   -2.55845     0.0773238      0.0721682   3.68557    -4.07451\n",
       " -2.04304    -1.34501    -0.689001       1.92147    -1.32493    -1.4391\n",
       " -1.5396     -0.778088    0.554126      -1.42853     0.0744139  -0.540589\n",
       "  0.205376   -0.447025    3.65558    …   1.48534    -0.414697    1.81156\n",
       "  0.154791    1.34348    -1.29527       -2.13208    -0.66017     1.54498\n",
       "  0.852045    3.13639    -0.781097      -0.697632   -0.630185    0.0521465\n",
       "  3.3503     -0.237203   -0.70463       -1.93532     2.35026    -0.0314685\n",
       " -2.10326    -0.0592971  -1.50522        0.416827   -2.06459    -2.04976\n",
       "  0.629218    1.10381    -1.85902    …  -1.31295    -0.510115    0.382771\n",
       "  0.763118    1.66157    -0.288943       1.75658    -1.1151     -0.985488\n",
       " -1.74386    -0.738943    0.307054      -0.265365   -1.09749     0.0363151\n",
       "  ⋮                                  ⋱                          \n",
       " -3.00941    -1.37024     2.39034        1.82314    -0.380292   -1.79772\n",
       " -0.0551953  -0.899751   -1.71652       -1.8575      1.74603     0.463956\n",
       " -1.24547    -0.849534   -2.47423    …   0.108653    0.940387   -0.146214\n",
       " -0.772616   -2.07813     3.09038        0.346363   -0.960159   -1.50093\n",
       " -2.64617    -2.04766     1.08653        0.822263    0.0911967   1.65553\n",
       "  1.60719    -0.841101    0.157655       1.96522     2.13915     0.658992\n",
       " -0.55921    -1.16312     0.901499      -0.867904   -1.78357    -2.24253\n",
       " -0.496712   -0.0442799  -0.172507   …   2.9909      0.653923   -0.694089\n",
       "  1.99153    -0.402386   -0.436316       1.62488    -2.21985     0.275544\n",
       "  1.61154     0.216364    0.0721682     -0.491969    0.75926     4.27267\n",
       "  1.91082     2.14339     3.68557        0.75926     2.00448    -0.342474\n",
       "  0.0643163  -0.786335   -4.07451        4.27267    -0.342474   -1.15349"
      ]
     },
     "execution_count": 102,
     "metadata": {},
     "output_type": "execute_result"
    }
   ],
   "source": [
    "# Явно указываем, что матрица является симметричной:\n",
    "Asym_explicit = Symmetric(Asym_noisy)"
   ]
  },
  {
   "cell_type": "code",
   "execution_count": 103,
   "id": "454053b3-8a4c-4413-bca7-7ffe065dfd69",
   "metadata": {},
   "outputs": [
    {
     "name": "stderr",
     "output_type": "stream",
     "text": [
      "\u001b[32m\u001b[1m   Resolving\u001b[22m\u001b[39m package versions...\n",
      "\u001b[32m\u001b[1m   Installed\u001b[22m\u001b[39m BenchmarkTools ─ v1.6.2\n",
      "\u001b[32m\u001b[1m    Updating\u001b[22m\u001b[39m `C:\\Users\\Полина\\.julia\\environments\\v1.11\\Project.toml`\n",
      "  \u001b[90m[6e4b80f9] \u001b[39m\u001b[92m+ BenchmarkTools v1.6.2\u001b[39m\n",
      "\u001b[32m\u001b[1m    Updating\u001b[22m\u001b[39m `C:\\Users\\Полина\\.julia\\environments\\v1.11\\Manifest.toml`\n",
      "  \u001b[90m[6e4b80f9] \u001b[39m\u001b[92m+ BenchmarkTools v1.6.2\u001b[39m\n",
      "  \u001b[90m[9abbd945] \u001b[39m\u001b[92m+ Profile v1.11.0\u001b[39m\n",
      "\u001b[92m\u001b[1mPrecompiling\u001b[22m\u001b[39m project...\n",
      "   3741.6 ms\u001b[32m  ✓ \u001b[39mBenchmarkTools\n",
      "  1 dependency successfully precompiled in 6 seconds. 465 already precompiled.\n"
     ]
    }
   ],
   "source": [
    "import Pkg\n",
    "Pkg.add(\"BenchmarkTools\")\n",
    "using BenchmarkTools"
   ]
  },
  {
   "cell_type": "code",
   "execution_count": 104,
   "id": "460bbc3e-57d5-444f-9215-e4df7e5fd3e8",
   "metadata": {},
   "outputs": [
    {
     "name": "stdout",
     "output_type": "stream",
     "text": [
      "  41.776 ms (21 allocations: 7.99 MiB)\n"
     ]
    }
   ],
   "source": [
    "# Оценка эффективности выполнения операции по нахождению\n",
    "# собственных значений симметризованной матрицы:\n",
    "@btime eigvals(Asym);"
   ]
  },
  {
   "cell_type": "code",
   "execution_count": 105,
   "id": "4f477d4e-ca9c-450c-97ac-04e2af11e278",
   "metadata": {},
   "outputs": [
    {
     "name": "stdout",
     "output_type": "stream",
     "text": [
      "  359.688 ms (27 allocations: 7.93 MiB)\n"
     ]
    }
   ],
   "source": [
    "# Оценка эффективности выполнения операции по нахождению\n",
    "# собственных значений зашумлённой матрицы:\n",
    "@btime eigvals(Asym_noisy);"
   ]
  },
  {
   "cell_type": "code",
   "execution_count": 106,
   "id": "5ed569c6-f60f-4f90-bf37-fd46337c815d",
   "metadata": {},
   "outputs": [
    {
     "name": "stdout",
     "output_type": "stream",
     "text": [
      "  42.324 ms (21 allocations: 7.99 MiB)\n"
     ]
    }
   ],
   "source": [
    "# Оценка эффективности выполнения операции по нахождению\n",
    "# собственных значений зашумлённой матрицы,\n",
    "# для которой явно указано, что она симметричная:\n",
    "@btime eigvals(Asym_explicit);"
   ]
  },
  {
   "cell_type": "code",
   "execution_count": 107,
   "id": "4bd86295-26eb-47a2-9290-17aa3e911f03",
   "metadata": {},
   "outputs": [
    {
     "data": {
      "text/plain": [
       "1000000×1000000 SymTridiagonal{Float64, Vector{Float64}}:\n",
       " 0.754391   1.12079     ⋅         …    ⋅         ⋅          ⋅ \n",
       " 1.12079    0.808854  -0.589236        ⋅         ⋅          ⋅ \n",
       "  ⋅        -0.589236   0.0751564       ⋅         ⋅          ⋅ \n",
       "  ⋅          ⋅         0.540651        ⋅         ⋅          ⋅ \n",
       "  ⋅          ⋅          ⋅              ⋅         ⋅          ⋅ \n",
       "  ⋅          ⋅          ⋅         …    ⋅         ⋅          ⋅ \n",
       "  ⋅          ⋅          ⋅              ⋅         ⋅          ⋅ \n",
       "  ⋅          ⋅          ⋅              ⋅         ⋅          ⋅ \n",
       "  ⋅          ⋅          ⋅              ⋅         ⋅          ⋅ \n",
       "  ⋅          ⋅          ⋅              ⋅         ⋅          ⋅ \n",
       "  ⋅          ⋅          ⋅         …    ⋅         ⋅          ⋅ \n",
       "  ⋅          ⋅          ⋅              ⋅         ⋅          ⋅ \n",
       "  ⋅          ⋅          ⋅              ⋅         ⋅          ⋅ \n",
       " ⋮                                ⋱                       \n",
       "  ⋅          ⋅          ⋅              ⋅         ⋅          ⋅ \n",
       "  ⋅          ⋅          ⋅              ⋅         ⋅          ⋅ \n",
       "  ⋅          ⋅          ⋅         …    ⋅         ⋅          ⋅ \n",
       "  ⋅          ⋅          ⋅              ⋅         ⋅          ⋅ \n",
       "  ⋅          ⋅          ⋅              ⋅         ⋅          ⋅ \n",
       "  ⋅          ⋅          ⋅              ⋅         ⋅          ⋅ \n",
       "  ⋅          ⋅          ⋅              ⋅         ⋅          ⋅ \n",
       "  ⋅          ⋅          ⋅         …    ⋅         ⋅          ⋅ \n",
       "  ⋅          ⋅          ⋅             1.69466    ⋅          ⋅ \n",
       "  ⋅          ⋅          ⋅            -0.720398  1.75078     ⋅ \n",
       "  ⋅          ⋅          ⋅             1.75078   0.373654   0.454938\n",
       "  ⋅          ⋅          ⋅              ⋅        0.454938  -0.0790711"
      ]
     },
     "execution_count": 107,
     "metadata": {},
     "output_type": "execute_result"
    }
   ],
   "source": [
    "# Трёхдиагональная матрица 1000000 х 1000000:\n",
    "n = 1000000;\n",
    "A = SymTridiagonal(randn(n), randn(n-1))"
   ]
  },
  {
   "cell_type": "code",
   "execution_count": 108,
   "id": "2b091820-327b-4245-958e-74b2e269ffff",
   "metadata": {},
   "outputs": [
    {
     "name": "stdout",
     "output_type": "stream",
     "text": [
      "  426.351 ms (44 allocations: 183.11 MiB)\n"
     ]
    },
    {
     "data": {
      "text/plain": [
       "6.8310673689134"
      ]
     },
     "execution_count": 108,
     "metadata": {},
     "output_type": "execute_result"
    }
   ],
   "source": [
    "# Оценка эффективности выполнения операции по нахождению\n",
    "# собственных значений:\n",
    "@btime eigmax(A)"
   ]
  },
  {
   "cell_type": "code",
   "execution_count": 111,
   "id": "2bdccee8-cb94-4ab7-803f-97e5e4616ed3",
   "metadata": {},
   "outputs": [
    {
     "data": {
      "text/plain": [
       "3×3 Matrix{Rational{BigInt}}:\n",
       " 4//5   9//10  2//5\n",
       " 3//5   1//10  7//10\n",
       " 7//10  3//5   9//10"
      ]
     },
     "execution_count": 111,
     "metadata": {},
     "output_type": "execute_result"
    }
   ],
   "source": [
    "#Общая линейная алгебра\n",
    "# Матрица с рациональными элементами:\n",
    "Arational = Matrix{Rational{BigInt}}(rand(1:10, 3, 3))/10"
   ]
  },
  {
   "cell_type": "code",
   "execution_count": 112,
   "id": "995c4c48-8839-43ea-ad81-19400f0ee386",
   "metadata": {},
   "outputs": [
    {
     "data": {
      "text/plain": [
       "3-element Vector{Int64}:\n",
       " 1\n",
       " 1\n",
       " 1"
      ]
     },
     "execution_count": 112,
     "metadata": {},
     "output_type": "execute_result"
    }
   ],
   "source": [
    "# Единичный вектор:\n",
    "x = fill(1, 3)"
   ]
  },
  {
   "cell_type": "code",
   "execution_count": 113,
   "id": "bdd46859-9465-4a12-b188-80c940277d95",
   "metadata": {},
   "outputs": [
    {
     "data": {
      "text/plain": [
       "3-element Vector{Rational{BigInt}}:\n",
       " 21//10\n",
       "  7//5\n",
       " 11//5"
      ]
     },
     "execution_count": 113,
     "metadata": {},
     "output_type": "execute_result"
    }
   ],
   "source": [
    "# Задаём вектор b:\n",
    "b = Arational*x"
   ]
  },
  {
   "cell_type": "code",
   "execution_count": 114,
   "id": "6dc94b4a-e24a-48e5-b87b-83250da9a430",
   "metadata": {},
   "outputs": [
    {
     "data": {
      "text/plain": [
       "3-element Vector{Rational{BigInt}}:\n",
       " 1\n",
       " 1\n",
       " 1"
      ]
     },
     "execution_count": 114,
     "metadata": {},
     "output_type": "execute_result"
    }
   ],
   "source": [
    "# Решение исходного уравнения получаем с помощью функции \\\n",
    "# (убеждаемся, что x - единичный вектор):\n",
    "Arational\\b"
   ]
  },
  {
   "cell_type": "code",
   "execution_count": 115,
   "id": "308d9a9d-d289-4c35-937a-181496d57bc3",
   "metadata": {},
   "outputs": [
    {
     "data": {
      "text/plain": [
       "LU{Rational{BigInt}, Matrix{Rational{BigInt}}, Vector{Int64}}\n",
       "L factor:\n",
       "3×3 Matrix{Rational{BigInt}}:\n",
       "  1      0     0\n",
       " 3//4    1     0\n",
       " 7//8  15//46  1\n",
       "U factor:\n",
       "3×3 Matrix{Rational{BigInt}}:\n",
       " 4//5    9//10    2//5\n",
       "  0    -23//40    2//5\n",
       "  0       0     193//460"
      ]
     },
     "execution_count": 115,
     "metadata": {},
     "output_type": "execute_result"
    }
   ],
   "source": [
    "# LU-разложение:\n",
    "lu(Arational)"
   ]
  },
  {
   "cell_type": "code",
   "execution_count": 188,
   "id": "ce1a9006-cff8-4a03-b424-7fc534265532",
   "metadata": {},
   "outputs": [
    {
     "data": {
      "text/plain": [
       "9317"
      ]
     },
     "execution_count": 188,
     "metadata": {},
     "output_type": "execute_result"
    }
   ],
   "source": [
    "# 1\n",
    "v = [25, 86, 36]\n",
    "dot_v = v'v"
   ]
  },
  {
   "cell_type": "code",
   "execution_count": 189,
   "id": "d44b7d2b-40ee-4fc5-b978-13bec34485c4",
   "metadata": {},
   "outputs": [
    {
     "data": {
      "text/plain": [
       "3×3 Matrix{Int64}:\n",
       "  625  2150   900\n",
       " 2150  7396  3096\n",
       "  900  3096  1296"
      ]
     },
     "execution_count": 189,
     "metadata": {},
     "output_type": "execute_result"
    }
   ],
   "source": [
    "outer_v = v*v'"
   ]
  },
  {
   "cell_type": "code",
   "execution_count": 190,
   "id": "8a95e21b-7e56-4666-a70a-0e3041165583",
   "metadata": {},
   "outputs": [
    {
     "data": {
      "text/plain": [
       "2-element Vector{Float64}:\n",
       "  2.5\n",
       " -0.5"
      ]
     },
     "execution_count": 190,
     "metadata": {},
     "output_type": "execute_result"
    }
   ],
   "source": [
    "#2.1\n",
    "A1 = [1 1; 1 -1]\n",
    "b1 = [2, 3]\n",
    "x1 = A1\\b1"
   ]
  },
  {
   "cell_type": "code",
   "execution_count": 191,
   "id": "600b8980-eb07-4ba5-9f44-44d82df925b5",
   "metadata": {},
   "outputs": [
    {
     "name": "stdout",
     "output_type": "stream",
     "text": [
      "Нет решений"
     ]
    }
   ],
   "source": [
    "A2 = [1 1; 2 2]\n",
    "b2 = [2, 4]\n",
    "if det(A2) == 0\n",
    "    print(\"Нет решений\")\n",
    "else\n",
    "    x2 = A2\\b2\n",
    "    print(x2)\n",
    "end"
   ]
  },
  {
   "cell_type": "code",
   "execution_count": 192,
   "id": "0de26521-6d93-4870-b458-0e2b5519927b",
   "metadata": {},
   "outputs": [
    {
     "name": "stdout",
     "output_type": "stream",
     "text": [
      "Нет решений"
     ]
    }
   ],
   "source": [
    "A3 = [1 1; 2 2] \n",
    "b3 = [2, 5]\n",
    "if det(A3) == 0\n",
    "    print(\"Нет решений\")\n",
    "else\n",
    "    x3 = A3\\b3\n",
    "    print(x3)\n",
    "end"
   ]
  },
  {
   "cell_type": "code",
   "execution_count": 193,
   "id": "2d92e300-b17f-46a5-955b-f88f8a0efe0b",
   "metadata": {},
   "outputs": [
    {
     "data": {
      "text/plain": [
       "2-element Vector{Float64}:\n",
       " 0.4999999999999999\n",
       " 0.5"
      ]
     },
     "execution_count": 193,
     "metadata": {},
     "output_type": "execute_result"
    }
   ],
   "source": [
    "A4 = [1 1; 2 2; 3 3]\n",
    "b4 = [1, 2, 3]\n",
    "x4 = A4\\b4"
   ]
  },
  {
   "cell_type": "code",
   "execution_count": 194,
   "id": "ecf0b2b4-2197-4860-991d-7282ce8a23f5",
   "metadata": {},
   "outputs": [
    {
     "data": {
      "text/plain": [
       "2-element Vector{Float64}:\n",
       "  1.5000000000000004\n",
       " -0.9999999999999997"
      ]
     },
     "execution_count": 194,
     "metadata": {},
     "output_type": "execute_result"
    }
   ],
   "source": [
    "A5 = [1 1; 2 1; 1 -1]\n",
    "b5 = [2, 1, 3]\n",
    "x5 = A5\\b5"
   ]
  },
  {
   "cell_type": "code",
   "execution_count": 195,
   "id": "3fa4fbc5-e6cc-4c0c-9e88-e063b905559b",
   "metadata": {},
   "outputs": [
    {
     "data": {
      "text/plain": [
       "2-element Vector{Float64}:\n",
       " -0.9999999999999989\n",
       "  2.9999999999999982"
      ]
     },
     "execution_count": 195,
     "metadata": {},
     "output_type": "execute_result"
    }
   ],
   "source": [
    "A6 = [1 1; 2 1; 3 2]\n",
    "b6 = [2, 1, 3]\n",
    "x6 = A6\\b6"
   ]
  },
  {
   "cell_type": "code",
   "execution_count": 196,
   "id": "9da0eecf-f6b8-430f-a93b-6a2657f4a584",
   "metadata": {},
   "outputs": [
    {
     "data": {
      "text/plain": [
       "3-element Vector{Float64}:\n",
       "  2.2142857142857144\n",
       "  0.35714285714285704\n",
       " -0.5714285714285712"
      ]
     },
     "execution_count": 196,
     "metadata": {},
     "output_type": "execute_result"
    }
   ],
   "source": [
    "#2.2\n",
    "A7 = [1 1 1; 1 -1 -2]\n",
    "b7 = [2, 3]\n",
    "x7 = A7\\b7"
   ]
  },
  {
   "cell_type": "code",
   "execution_count": 197,
   "id": "04dd86cf-9679-4fa9-8d3c-2f7bf7000809",
   "metadata": {},
   "outputs": [
    {
     "data": {
      "text/plain": [
       "3-element Vector{Float64}:\n",
       " -0.5\n",
       "  2.5\n",
       "  0.0"
      ]
     },
     "execution_count": 197,
     "metadata": {},
     "output_type": "execute_result"
    }
   ],
   "source": [
    "A8 = [1 1 1; 2 2 -3; 3 1 1]\n",
    "b8 = [2, 4, 1]\n",
    "x8 = A8\\b8"
   ]
  },
  {
   "cell_type": "code",
   "execution_count": 198,
   "id": "ac6db3a8-849b-4226-89cd-b1ad385d8c2c",
   "metadata": {},
   "outputs": [
    {
     "name": "stdout",
     "output_type": "stream",
     "text": [
      "Нет решений"
     ]
    }
   ],
   "source": [
    "A9 = [1 1 1; 1 1 2; 2 2 3]\n",
    "b9 = [1, 0, 1]\n",
    "if det(A9) == 0\n",
    "    print(\"Нет решений\")\n",
    "else\n",
    "    x9 = A9\\b9\n",
    "    print(x9)\n",
    "end"
   ]
  },
  {
   "cell_type": "code",
   "execution_count": 199,
   "id": "0458ee17-8be1-4b71-ab0c-6117b354ddcb",
   "metadata": {},
   "outputs": [
    {
     "name": "stdout",
     "output_type": "stream",
     "text": [
      "Нет решений"
     ]
    }
   ],
   "source": [
    "A10 = [1 1 1; 1 1 2; 2 2 3]\n",
    "b10 = [1, 0, 0]\n",
    "if det(A10) == 0\n",
    "    print(\"Нет решений\")\n",
    "else\n",
    "    x10 = A10\\b10\n",
    "    print(x10)\n",
    "end"
   ]
  },
  {
   "cell_type": "code",
   "execution_count": 200,
   "id": "db0d7f22-ea5f-4d22-ac6f-b3b203f779ad",
   "metadata": {},
   "outputs": [
    {
     "data": {
      "text/plain": [
       "2×2 Matrix{Int64}:\n",
       "  1  -2\n",
       " -2   1"
      ]
     },
     "execution_count": 200,
     "metadata": {},
     "output_type": "execute_result"
    }
   ],
   "source": [
    "#3.1\n",
    "a = [1 -2; -2 1]"
   ]
  },
  {
   "cell_type": "code",
   "execution_count": 201,
   "id": "7704e966-8ac4-4225-ac35-c14179ebd068",
   "metadata": {},
   "outputs": [
    {
     "data": {
      "text/plain": [
       "Eigen{Float64, Float64, Matrix{Float64}, Vector{Float64}}\n",
       "values:\n",
       "2-element Vector{Float64}:\n",
       " -1.0\n",
       "  3.0\n",
       "vectors:\n",
       "2×2 Matrix{Float64}:\n",
       " -0.707107  -0.707107\n",
       " -0.707107   0.707107"
      ]
     },
     "execution_count": 201,
     "metadata": {},
     "output_type": "execute_result"
    }
   ],
   "source": [
    "eigs = eigen(a)"
   ]
  },
  {
   "cell_type": "code",
   "execution_count": 202,
   "id": "868e234f-3066-4656-9592-5312081e1554",
   "metadata": {},
   "outputs": [
    {
     "data": {
      "text/plain": [
       "2×2 Matrix{Float64}:\n",
       " -1.0  0.0\n",
       "  0.0  3.0"
      ]
     },
     "execution_count": 202,
     "metadata": {},
     "output_type": "execute_result"
    }
   ],
   "source": [
    "a_diag = diagm(eigs.values)"
   ]
  },
  {
   "cell_type": "code",
   "execution_count": 203,
   "id": "e256b892-d191-4501-9106-41d48416e366",
   "metadata": {},
   "outputs": [
    {
     "data": {
      "text/plain": [
       "2×2 Matrix{Float64}:\n",
       " -0.236068  0.0\n",
       "  0.0       4.23607"
      ]
     },
     "execution_count": 203,
     "metadata": {},
     "output_type": "execute_result"
    }
   ],
   "source": [
    "b = [1 -2; -2 3]\n",
    "eigs2 = eigen(b)\n",
    "b_diag = diagm(eigs2.values)"
   ]
  },
  {
   "cell_type": "code",
   "execution_count": 204,
   "id": "d898ea94-f8f1-45c4-b17d-cc108b861cbc",
   "metadata": {},
   "outputs": [
    {
     "data": {
      "text/plain": [
       "3×3 Matrix{Float64}:\n",
       " -2.14134  0.0       0.0\n",
       "  0.0      0.515138  0.0\n",
       "  0.0      0.0       3.6262"
      ]
     },
     "execution_count": 204,
     "metadata": {},
     "output_type": "execute_result"
    }
   ],
   "source": [
    "c = [1 -2 0; -2 1 2; 0 2 0]\n",
    "eigs3 = eigen(c)\n",
    "c_diag = diagm(eigs3.values)"
   ]
  },
  {
   "cell_type": "code",
   "execution_count": 205,
   "id": "2e8296d0-df25-4a18-8b7d-742af3869201",
   "metadata": {},
   "outputs": [
    {
     "data": {
      "text/plain": [
       "2×2 Matrix{Int64}:\n",
       "  29525  -29524\n",
       " -29524   29525"
      ]
     },
     "execution_count": 205,
     "metadata": {},
     "output_type": "execute_result"
    }
   ],
   "source": [
    "#3.2\n",
    "a = [1 -2; -2 1]\n",
    "a^10"
   ]
  },
  {
   "cell_type": "code",
   "execution_count": 206,
   "id": "c2dfeb97-25c3-4dd9-9bd7-faafc04d2eb7",
   "metadata": {},
   "outputs": [
    {
     "data": {
      "text/plain": [
       "2×2 Matrix{Float64}:\n",
       "  2.1889   -0.45685\n",
       " -0.45685   2.1889"
      ]
     },
     "execution_count": 206,
     "metadata": {},
     "output_type": "execute_result"
    }
   ],
   "source": [
    "b = [5 -2; -2 5]\n",
    "sqrt(b)"
   ]
  },
  {
   "cell_type": "code",
   "execution_count": 207,
   "id": "043d44d6-3a3f-432c-9dd8-923d3450e262",
   "metadata": {},
   "outputs": [
    {
     "data": {
      "text/plain": [
       "2×2 Matrix{Float64}:\n",
       "  0.221125  -1.22112\n",
       " -1.22112    0.221125"
      ]
     },
     "execution_count": 207,
     "metadata": {},
     "output_type": "execute_result"
    }
   ],
   "source": [
    "c = [1 -2; -2 1]\n",
    "cbrt(c)"
   ]
  },
  {
   "cell_type": "code",
   "execution_count": 208,
   "id": "2f2605dc-3bc8-4125-8881-12743329495b",
   "metadata": {},
   "outputs": [
    {
     "data": {
      "text/plain": [
       "2×2 Matrix{ComplexF64}:\n",
       " 0.568864+0.351578im  0.920442-0.217287im\n",
       " 0.920442-0.217287im   1.48931+0.134291im"
      ]
     },
     "execution_count": 208,
     "metadata": {},
     "output_type": "execute_result"
    }
   ],
   "source": [
    "d = [1 2; 2 3]\n",
    "sqrt(d)"
   ]
  },
  {
   "cell_type": "code",
   "execution_count": 209,
   "id": "9187bff0-d58f-4c12-8f38-b8766c0208d8",
   "metadata": {},
   "outputs": [
    {
     "data": {
      "text/plain": [
       "5×5 Matrix{Float64}:\n",
       " -128.493    0.0      0.0      0.0       0.0\n",
       "    0.0    -55.8878   0.0      0.0       0.0\n",
       "    0.0      0.0     42.7522   0.0       0.0\n",
       "    0.0      0.0      0.0     87.1611    0.0\n",
       "    0.0      0.0      0.0      0.0     542.468"
      ]
     },
     "execution_count": 209,
     "metadata": {},
     "output_type": "execute_result"
    }
   ],
   "source": [
    "#3.3\n",
    "A = [140 97 74 168 131; \n",
    "     97 106 89 131 36;\n",
    "     74 89 152 144 71;\n",
    "     168 131 144 54 142;\n",
    "     131 36 71 142 36]\n",
    "eigs = eigen(A)\n",
    "A_diag = diagm(eigs.values)"
   ]
  },
  {
   "cell_type": "code",
   "execution_count": 210,
   "id": "f4e7a5cd-764b-442d-b57e-5e984a889b12",
   "metadata": {},
   "outputs": [
    {
     "data": {
      "text/plain": [
       "5×5 LowerTriangular{Int64, Matrix{Int64}}:\n",
       " 140    ⋅    ⋅    ⋅   ⋅\n",
       "  97  106    ⋅    ⋅   ⋅\n",
       "  74   89  152    ⋅   ⋅\n",
       " 168  131  144   54   ⋅\n",
       " 131   36   71  142  36"
      ]
     },
     "execution_count": 210,
     "metadata": {},
     "output_type": "execute_result"
    }
   ],
   "source": [
    "LowerTriangular(A)"
   ]
  },
  {
   "cell_type": "code",
   "execution_count": 211,
   "id": "5bbd3577-ee3d-4d66-a1e6-7596969262e0",
   "metadata": {},
   "outputs": [
    {
     "name": "stdout",
     "output_type": "stream",
     "text": [
      "  105.668 ns (2 allocations: 272 bytes)\n"
     ]
    },
    {
     "data": {
      "text/plain": [
       "5×5 Matrix{Float64}:\n",
       " -128.493    0.0      0.0      0.0       0.0\n",
       "    0.0    -55.8878   0.0      0.0       0.0\n",
       "    0.0      0.0     42.7522   0.0       0.0\n",
       "    0.0      0.0      0.0     87.1611    0.0\n",
       "    0.0      0.0      0.0      0.0     542.468"
      ]
     },
     "execution_count": 211,
     "metadata": {},
     "output_type": "execute_result"
    }
   ],
   "source": [
    "@btime diagm(eigs.values)"
   ]
  },
  {
   "cell_type": "code",
   "execution_count": 212,
   "id": "10139220-8022-4601-98e3-346d86abdf3d",
   "metadata": {},
   "outputs": [
    {
     "name": "stdout",
     "output_type": "stream",
     "text": [
      "  183.310 ns (1 allocation: 16 bytes)\n"
     ]
    },
    {
     "data": {
      "text/plain": [
       "5×5 LowerTriangular{Int64, Matrix{Int64}}:\n",
       " 140    ⋅    ⋅    ⋅   ⋅\n",
       "  97  106    ⋅    ⋅   ⋅\n",
       "  74   89  152    ⋅   ⋅\n",
       " 168  131  144   54   ⋅\n",
       " 131   36   71  142  36"
      ]
     },
     "execution_count": 212,
     "metadata": {},
     "output_type": "execute_result"
    }
   ],
   "source": [
    "@btime LowerTriangular(A)"
   ]
  },
  {
   "cell_type": "code",
   "execution_count": 213,
   "id": "31af26ae-ba0a-4f06-877f-e3b3110093b8",
   "metadata": {},
   "outputs": [
    {
     "data": {
      "text/plain": [
       "1×2 adjoint(::Vector{Float64}) with eltype Float64:\n",
       " 0.0  -0.333333"
      ]
     },
     "execution_count": 213,
     "metadata": {},
     "output_type": "execute_result"
    }
   ],
   "source": [
    "#4.1 \n",
    "E = Matrix{Int}(I, 2, 2)\n",
    "A1 = [1 2; 3 4]\n",
    "y1 = [1, 1]\n",
    "x1 = y1'*((E-A1)^-1)\n",
    "#матрица не продуктивная"
   ]
  },
  {
   "cell_type": "code",
   "execution_count": 214,
   "id": "8d5ec8e0-a1a0-4933-ae87-330630b186af",
   "metadata": {},
   "outputs": [
    {
     "data": {
      "text/plain": [
       "1×2 adjoint(::Vector{Float64}) with eltype Float64:\n",
       " -0.25  -0.75"
      ]
     },
     "execution_count": 214,
     "metadata": {},
     "output_type": "execute_result"
    }
   ],
   "source": [
    "A2 = 1/2*A1\n",
    "x2 = y1'*((E-A2)^-1)\n",
    "#матрица не продуктивная"
   ]
  },
  {
   "cell_type": "code",
   "execution_count": 215,
   "id": "e4f251e4-01ff-4752-b2bd-d7c10cbc2200",
   "metadata": {},
   "outputs": [
    {
     "data": {
      "text/plain": [
       "1×2 adjoint(::Vector{Float64}) with eltype Float64:\n",
       " 1.875  2.29167"
      ]
     },
     "execution_count": 215,
     "metadata": {},
     "output_type": "execute_result"
    }
   ],
   "source": [
    "A3 = 1/10*A1\n",
    "x3 = y1'*((E-A3)^(-1))\n",
    "#матрица не продуктивная"
   ]
  },
  {
   "cell_type": "code",
   "execution_count": 216,
   "id": "850d1174-d3e2-46a8-8ef6-6ea99e2dbfed",
   "metadata": {},
   "outputs": [
    {
     "data": {
      "text/plain": [
       "2×2 Matrix{Float64}:\n",
       " -0.0  -0.333333\n",
       " -0.5   0.0"
      ]
     },
     "execution_count": 216,
     "metadata": {},
     "output_type": "execute_result"
    }
   ],
   "source": [
    "#4.2\n",
    "A4 = [1 2; 3 1]\n",
    "x4 = (E-A4)^(-1)\n",
    "#матрица не продуктивная"
   ]
  },
  {
   "cell_type": "code",
   "execution_count": 217,
   "id": "1fc113ac-5f92-48ca-aa74-e94a835b44c1",
   "metadata": {},
   "outputs": [
    {
     "data": {
      "text/plain": [
       "2×2 Matrix{Float64}:\n",
       " -0.4  -0.8\n",
       " -1.2  -0.4"
      ]
     },
     "execution_count": 217,
     "metadata": {},
     "output_type": "execute_result"
    }
   ],
   "source": [
    "A5 = 1/2*A4\n",
    "x5 = (E-A5)^(-1)\n",
    "#матрица не продуктивная"
   ]
  },
  {
   "cell_type": "code",
   "execution_count": 218,
   "id": "7b3bf56f-5992-4907-a20b-1f49955c69f5",
   "metadata": {},
   "outputs": [
    {
     "data": {
      "text/plain": [
       "2×2 Matrix{Float64}:\n",
       " 1.2  0.266667\n",
       " 0.4  1.2"
      ]
     },
     "execution_count": 218,
     "metadata": {},
     "output_type": "execute_result"
    }
   ],
   "source": [
    "A6 = 1/10*A4\n",
    "x6 = (E-A6)^(-1)\n",
    "#матрица продуктивная"
   ]
  },
  {
   "cell_type": "code",
   "execution_count": 219,
   "id": "eb5600f1-0029-40cc-957b-a16a3d5b4565",
   "metadata": {},
   "outputs": [
    {
     "data": {
      "text/plain": [
       "2-element Vector{Float64}:\n",
       " 1.4494897427831779\n",
       " 3.4494897427831783"
      ]
     },
     "execution_count": 219,
     "metadata": {},
     "output_type": "execute_result"
    }
   ],
   "source": [
    "#4.3\n",
    "A7 = [1 2; 3 1]\n",
    "eigs = eigen(A7)\n",
    "abs.(eigs.values)\n",
    "#матрица не продуктивная"
   ]
  },
  {
   "cell_type": "code",
   "execution_count": 220,
   "id": "d40d7fb3-d05f-4f96-9388-17dd1abca10e",
   "metadata": {},
   "outputs": [
    {
     "data": {
      "text/plain": [
       "2-element Vector{Float64}:\n",
       " 0.7247448713915892\n",
       " 1.724744871391589"
      ]
     },
     "execution_count": 220,
     "metadata": {},
     "output_type": "execute_result"
    }
   ],
   "source": [
    "A8 = 1/2*A7\n",
    "eigs = eigen(A8)\n",
    "abs.(eigs.values)\n",
    "#матрица не продуктивная"
   ]
  },
  {
   "cell_type": "code",
   "execution_count": 221,
   "id": "b83b9162-0be4-4c49-9062-f139dafcc849",
   "metadata": {},
   "outputs": [
    {
     "data": {
      "text/plain": [
       "2-element Vector{Float64}:\n",
       " 0.14494897427831785\n",
       " 0.34494897427831783"
      ]
     },
     "execution_count": 221,
     "metadata": {},
     "output_type": "execute_result"
    }
   ],
   "source": [
    "A9 = 1/10*A7\n",
    "eigs = eigen(A9)\n",
    "abs.(eigs.values)\n",
    "#матрица продуктивная"
   ]
  },
  {
   "cell_type": "code",
   "execution_count": 222,
   "id": "f1d228b0-f3b5-4af1-b2b4-b0f5d6fb0d29",
   "metadata": {},
   "outputs": [
    {
     "data": {
      "text/plain": [
       "3-element Vector{Float64}:\n",
       " 0.02679491924311228\n",
       " 0.1\n",
       " 0.37320508075688774"
      ]
     },
     "execution_count": 222,
     "metadata": {},
     "output_type": "execute_result"
    }
   ],
   "source": [
    "A10 = [0.1 0.2 0.2; 0 0.1 0.2; 0 0.1 0.3]\n",
    "eigs = eigen(A10)\n",
    "abs.(eigs.values)\n",
    "#матрица продуктивная"
   ]
  },
  {
   "cell_type": "code",
   "execution_count": null,
   "id": "58ef4de2-069e-43f5-a0c8-a5c038170a1a",
   "metadata": {},
   "outputs": [],
   "source": []
  },
  {
   "cell_type": "code",
   "execution_count": null,
   "id": "0a6be69b-7d1f-4b04-a578-03d2ddbea13a",
   "metadata": {},
   "outputs": [],
   "source": []
  }
 ],
 "metadata": {
  "kernelspec": {
   "display_name": "Julia 1.11.3",
   "language": "julia",
   "name": "julia-1.11"
  },
  "language_info": {
   "file_extension": ".jl",
   "mimetype": "application/julia",
   "name": "julia",
   "version": "1.11.3"
  }
 },
 "nbformat": 4,
 "nbformat_minor": 5
}
